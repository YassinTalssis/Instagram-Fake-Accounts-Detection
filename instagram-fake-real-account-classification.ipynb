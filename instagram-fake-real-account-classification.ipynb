{
 "cells": [
  {
   "cell_type": "markdown",
   "id": "abaa7db3",
   "metadata": {
    "papermill": {
     "duration": 0.00617,
     "end_time": "2023-03-25T00:51:00.096740",
     "exception": false,
     "start_time": "2023-03-25T00:51:00.090570",
     "status": "completed"
    },
    "tags": []
   },
   "source": [
    "# **Import Libraries**"
   ]
  },
  {
   "cell_type": "code",
   "execution_count": 1,
   "id": "3123a5c4",
   "metadata": {
    "_cell_guid": "b1076dfc-b9ad-4769-8c92-a6c4dae69d19",
    "_uuid": "8f2839f25d086af736a60e9eeb907d3b93b6e0e5",
    "execution": {
     "iopub.execute_input": "2023-03-25T00:51:00.109982Z",
     "iopub.status.busy": "2023-03-25T00:51:00.108805Z",
     "iopub.status.idle": "2023-03-25T00:51:00.123811Z",
     "shell.execute_reply": "2023-03-25T00:51:00.122623Z"
    },
    "papermill": {
     "duration": 0.024855,
     "end_time": "2023-03-25T00:51:00.126903",
     "exception": false,
     "start_time": "2023-03-25T00:51:00.102048",
     "status": "completed"
    },
    "tags": []
   },
   "outputs": [],
   "source": [
    "import numpy as np # linear algebra\n",
    "import pandas as pd # data processing, CSV file I/O (e.g. pd.read_csv)"
   ]
  },
  {
   "cell_type": "markdown",
   "id": "285c2d0d",
   "metadata": {
    "papermill": {
     "duration": 0.004481,
     "end_time": "2023-03-25T00:51:00.136382",
     "exception": false,
     "start_time": "2023-03-25T00:51:00.131901",
     "status": "completed"
    },
    "tags": []
   },
   "source": [
    "# **Read Data**"
   ]
  },
  {
   "cell_type": "code",
   "execution_count": 2,
   "id": "fd68519d",
   "metadata": {
    "execution": {
     "iopub.execute_input": "2023-03-25T00:51:00.148540Z",
     "iopub.status.busy": "2023-03-25T00:51:00.148078Z",
     "iopub.status.idle": "2023-03-25T00:51:00.237644Z",
     "shell.execute_reply": "2023-03-25T00:51:00.236047Z"
    },
    "papermill": {
     "duration": 0.10064,
     "end_time": "2023-03-25T00:51:00.241882",
     "exception": false,
     "start_time": "2023-03-25T00:51:00.141242",
     "status": "completed"
    },
    "tags": []
   },
   "outputs": [
    {
     "data": {
      "text/html": [
       "<div>\n",
       "<style scoped>\n",
       "    .dataframe tbody tr th:only-of-type {\n",
       "        vertical-align: middle;\n",
       "    }\n",
       "\n",
       "    .dataframe tbody tr th {\n",
       "        vertical-align: top;\n",
       "    }\n",
       "\n",
       "    .dataframe thead th {\n",
       "        text-align: right;\n",
       "    }\n",
       "</style>\n",
       "<table border=\"1\" class=\"dataframe\">\n",
       "  <thead>\n",
       "    <tr style=\"text-align: right;\">\n",
       "      <th></th>\n",
       "      <th>userFollowerCount</th>\n",
       "      <th>userFollowingCount</th>\n",
       "      <th>userBiographyLength</th>\n",
       "      <th>userMediaCount</th>\n",
       "      <th>userHasProfilPic</th>\n",
       "      <th>userIsPrivate</th>\n",
       "      <th>usernameDigitCount</th>\n",
       "      <th>usernameLength</th>\n",
       "      <th>isFake</th>\n",
       "    </tr>\n",
       "  </thead>\n",
       "  <tbody>\n",
       "    <tr>\n",
       "      <th>0</th>\n",
       "      <td>25</td>\n",
       "      <td>1937</td>\n",
       "      <td>0</td>\n",
       "      <td>0</td>\n",
       "      <td>1</td>\n",
       "      <td>1</td>\n",
       "      <td>0</td>\n",
       "      <td>10</td>\n",
       "      <td>1</td>\n",
       "    </tr>\n",
       "    <tr>\n",
       "      <th>1</th>\n",
       "      <td>324</td>\n",
       "      <td>4122</td>\n",
       "      <td>0</td>\n",
       "      <td>0</td>\n",
       "      <td>1</td>\n",
       "      <td>0</td>\n",
       "      <td>4</td>\n",
       "      <td>15</td>\n",
       "      <td>1</td>\n",
       "    </tr>\n",
       "    <tr>\n",
       "      <th>2</th>\n",
       "      <td>15</td>\n",
       "      <td>399</td>\n",
       "      <td>0</td>\n",
       "      <td>0</td>\n",
       "      <td>0</td>\n",
       "      <td>0</td>\n",
       "      <td>3</td>\n",
       "      <td>12</td>\n",
       "      <td>1</td>\n",
       "    </tr>\n",
       "    <tr>\n",
       "      <th>3</th>\n",
       "      <td>14</td>\n",
       "      <td>107</td>\n",
       "      <td>0</td>\n",
       "      <td>1</td>\n",
       "      <td>1</td>\n",
       "      <td>0</td>\n",
       "      <td>1</td>\n",
       "      <td>10</td>\n",
       "      <td>1</td>\n",
       "    </tr>\n",
       "    <tr>\n",
       "      <th>4</th>\n",
       "      <td>264</td>\n",
       "      <td>4651</td>\n",
       "      <td>0</td>\n",
       "      <td>0</td>\n",
       "      <td>1</td>\n",
       "      <td>0</td>\n",
       "      <td>0</td>\n",
       "      <td>14</td>\n",
       "      <td>1</td>\n",
       "    </tr>\n",
       "  </tbody>\n",
       "</table>\n",
       "</div>"
      ],
      "text/plain": [
       "   userFollowerCount  userFollowingCount  userBiographyLength  userMediaCount  \\\n",
       "0                 25                1937                    0               0   \n",
       "1                324                4122                    0               0   \n",
       "2                 15                 399                    0               0   \n",
       "3                 14                 107                    0               1   \n",
       "4                264                4651                    0               0   \n",
       "\n",
       "   userHasProfilPic  userIsPrivate  usernameDigitCount  usernameLength  isFake  \n",
       "0                 1              1                   0              10       1  \n",
       "1                 1              0                   4              15       1  \n",
       "2                 0              0                   3              12       1  \n",
       "3                 1              0                   1              10       1  \n",
       "4                 1              0                   0              14       1  "
      ]
     },
     "execution_count": 2,
     "metadata": {},
     "output_type": "execute_result"
    }
   ],
   "source": [
    "real_users = pd.read_json(\"/kaggle/input/instagram/realAccountData.json\")\n",
    "fake_users = pd.read_json(\"/kaggle/input/instagram/fakeAccountData.json\")\n",
    "fake_users.head()"
   ]
  },
  {
   "cell_type": "code",
   "execution_count": 3,
   "id": "c27a5a60",
   "metadata": {
    "execution": {
     "iopub.execute_input": "2023-03-25T00:51:00.255327Z",
     "iopub.status.busy": "2023-03-25T00:51:00.254848Z",
     "iopub.status.idle": "2023-03-25T00:51:00.310167Z",
     "shell.execute_reply": "2023-03-25T00:51:00.308620Z"
    },
    "papermill": {
     "duration": 0.06581,
     "end_time": "2023-03-25T00:51:00.313357",
     "exception": false,
     "start_time": "2023-03-25T00:51:00.247547",
     "status": "completed"
    },
    "tags": []
   },
   "outputs": [
    {
     "data": {
      "text/html": [
       "<div>\n",
       "<style scoped>\n",
       "    .dataframe tbody tr th:only-of-type {\n",
       "        vertical-align: middle;\n",
       "    }\n",
       "\n",
       "    .dataframe tbody tr th {\n",
       "        vertical-align: top;\n",
       "    }\n",
       "\n",
       "    .dataframe thead th {\n",
       "        text-align: right;\n",
       "    }\n",
       "</style>\n",
       "<table border=\"1\" class=\"dataframe\">\n",
       "  <thead>\n",
       "    <tr style=\"text-align: right;\">\n",
       "      <th></th>\n",
       "      <th>userFollowerCount</th>\n",
       "      <th>userFollowingCount</th>\n",
       "      <th>userBiographyLength</th>\n",
       "      <th>userMediaCount</th>\n",
       "      <th>userHasProfilPic</th>\n",
       "      <th>userIsPrivate</th>\n",
       "      <th>usernameDigitCount</th>\n",
       "      <th>usernameLength</th>\n",
       "      <th>isFake</th>\n",
       "    </tr>\n",
       "  </thead>\n",
       "  <tbody>\n",
       "    <tr>\n",
       "      <th>count</th>\n",
       "      <td>200.000000</td>\n",
       "      <td>200.000000</td>\n",
       "      <td>200.000000</td>\n",
       "      <td>200.000000</td>\n",
       "      <td>200.000000</td>\n",
       "      <td>200.00000</td>\n",
       "      <td>200.000000</td>\n",
       "      <td>200.000000</td>\n",
       "      <td>200.0</td>\n",
       "    </tr>\n",
       "    <tr>\n",
       "      <th>mean</th>\n",
       "      <td>116.640000</td>\n",
       "      <td>1878.030000</td>\n",
       "      <td>11.980000</td>\n",
       "      <td>3.535000</td>\n",
       "      <td>0.605000</td>\n",
       "      <td>0.32500</td>\n",
       "      <td>1.635000</td>\n",
       "      <td>11.390000</td>\n",
       "      <td>1.0</td>\n",
       "    </tr>\n",
       "    <tr>\n",
       "      <th>std</th>\n",
       "      <td>289.906744</td>\n",
       "      <td>1871.377801</td>\n",
       "      <td>27.757558</td>\n",
       "      <td>28.585036</td>\n",
       "      <td>0.490077</td>\n",
       "      <td>0.46955</td>\n",
       "      <td>1.902597</td>\n",
       "      <td>3.532747</td>\n",
       "      <td>0.0</td>\n",
       "    </tr>\n",
       "    <tr>\n",
       "      <th>min</th>\n",
       "      <td>0.000000</td>\n",
       "      <td>0.000000</td>\n",
       "      <td>0.000000</td>\n",
       "      <td>0.000000</td>\n",
       "      <td>0.000000</td>\n",
       "      <td>0.00000</td>\n",
       "      <td>0.000000</td>\n",
       "      <td>5.000000</td>\n",
       "      <td>1.0</td>\n",
       "    </tr>\n",
       "    <tr>\n",
       "      <th>25%</th>\n",
       "      <td>10.750000</td>\n",
       "      <td>278.000000</td>\n",
       "      <td>0.000000</td>\n",
       "      <td>0.000000</td>\n",
       "      <td>0.000000</td>\n",
       "      <td>0.00000</td>\n",
       "      <td>0.000000</td>\n",
       "      <td>9.000000</td>\n",
       "      <td>1.0</td>\n",
       "    </tr>\n",
       "    <tr>\n",
       "      <th>50%</th>\n",
       "      <td>29.500000</td>\n",
       "      <td>1446.500000</td>\n",
       "      <td>0.000000</td>\n",
       "      <td>0.000000</td>\n",
       "      <td>1.000000</td>\n",
       "      <td>0.00000</td>\n",
       "      <td>1.000000</td>\n",
       "      <td>11.000000</td>\n",
       "      <td>1.0</td>\n",
       "    </tr>\n",
       "    <tr>\n",
       "      <th>75%</th>\n",
       "      <td>102.500000</td>\n",
       "      <td>2505.500000</td>\n",
       "      <td>4.500000</td>\n",
       "      <td>1.000000</td>\n",
       "      <td>1.000000</td>\n",
       "      <td>1.00000</td>\n",
       "      <td>3.000000</td>\n",
       "      <td>13.000000</td>\n",
       "      <td>1.0</td>\n",
       "    </tr>\n",
       "    <tr>\n",
       "      <th>max</th>\n",
       "      <td>3208.000000</td>\n",
       "      <td>7497.000000</td>\n",
       "      <td>138.000000</td>\n",
       "      <td>396.000000</td>\n",
       "      <td>1.000000</td>\n",
       "      <td>1.00000</td>\n",
       "      <td>10.000000</td>\n",
       "      <td>30.000000</td>\n",
       "      <td>1.0</td>\n",
       "    </tr>\n",
       "  </tbody>\n",
       "</table>\n",
       "</div>"
      ],
      "text/plain": [
       "       userFollowerCount  userFollowingCount  userBiographyLength  \\\n",
       "count         200.000000          200.000000           200.000000   \n",
       "mean          116.640000         1878.030000            11.980000   \n",
       "std           289.906744         1871.377801            27.757558   \n",
       "min             0.000000            0.000000             0.000000   \n",
       "25%            10.750000          278.000000             0.000000   \n",
       "50%            29.500000         1446.500000             0.000000   \n",
       "75%           102.500000         2505.500000             4.500000   \n",
       "max          3208.000000         7497.000000           138.000000   \n",
       "\n",
       "       userMediaCount  userHasProfilPic  userIsPrivate  usernameDigitCount  \\\n",
       "count      200.000000        200.000000      200.00000          200.000000   \n",
       "mean         3.535000          0.605000        0.32500            1.635000   \n",
       "std         28.585036          0.490077        0.46955            1.902597   \n",
       "min          0.000000          0.000000        0.00000            0.000000   \n",
       "25%          0.000000          0.000000        0.00000            0.000000   \n",
       "50%          0.000000          1.000000        0.00000            1.000000   \n",
       "75%          1.000000          1.000000        1.00000            3.000000   \n",
       "max        396.000000          1.000000        1.00000           10.000000   \n",
       "\n",
       "       usernameLength  isFake  \n",
       "count      200.000000   200.0  \n",
       "mean        11.390000     1.0  \n",
       "std          3.532747     0.0  \n",
       "min          5.000000     1.0  \n",
       "25%          9.000000     1.0  \n",
       "50%         11.000000     1.0  \n",
       "75%         13.000000     1.0  \n",
       "max         30.000000     1.0  "
      ]
     },
     "execution_count": 3,
     "metadata": {},
     "output_type": "execute_result"
    }
   ],
   "source": [
    "fake_users.describe()"
   ]
  },
  {
   "cell_type": "code",
   "execution_count": 4,
   "id": "cd525362",
   "metadata": {
    "execution": {
     "iopub.execute_input": "2023-03-25T00:51:00.327497Z",
     "iopub.status.busy": "2023-03-25T00:51:00.326993Z",
     "iopub.status.idle": "2023-03-25T00:51:00.342023Z",
     "shell.execute_reply": "2023-03-25T00:51:00.340519Z"
    },
    "papermill": {
     "duration": 0.026277,
     "end_time": "2023-03-25T00:51:00.345485",
     "exception": false,
     "start_time": "2023-03-25T00:51:00.319208",
     "status": "completed"
    },
    "tags": []
   },
   "outputs": [
    {
     "data": {
      "text/html": [
       "<div>\n",
       "<style scoped>\n",
       "    .dataframe tbody tr th:only-of-type {\n",
       "        vertical-align: middle;\n",
       "    }\n",
       "\n",
       "    .dataframe tbody tr th {\n",
       "        vertical-align: top;\n",
       "    }\n",
       "\n",
       "    .dataframe thead th {\n",
       "        text-align: right;\n",
       "    }\n",
       "</style>\n",
       "<table border=\"1\" class=\"dataframe\">\n",
       "  <thead>\n",
       "    <tr style=\"text-align: right;\">\n",
       "      <th></th>\n",
       "      <th>userFollowerCount</th>\n",
       "      <th>userFollowingCount</th>\n",
       "      <th>userBiographyLength</th>\n",
       "      <th>userMediaCount</th>\n",
       "      <th>userHasProfilPic</th>\n",
       "      <th>userIsPrivate</th>\n",
       "      <th>usernameDigitCount</th>\n",
       "      <th>usernameLength</th>\n",
       "      <th>isFake</th>\n",
       "    </tr>\n",
       "  </thead>\n",
       "  <tbody>\n",
       "    <tr>\n",
       "      <th>0</th>\n",
       "      <td>258</td>\n",
       "      <td>238</td>\n",
       "      <td>0</td>\n",
       "      <td>0</td>\n",
       "      <td>1</td>\n",
       "      <td>0</td>\n",
       "      <td>0</td>\n",
       "      <td>10</td>\n",
       "      <td>0</td>\n",
       "    </tr>\n",
       "    <tr>\n",
       "      <th>1</th>\n",
       "      <td>263</td>\n",
       "      <td>482</td>\n",
       "      <td>30</td>\n",
       "      <td>29</td>\n",
       "      <td>1</td>\n",
       "      <td>1</td>\n",
       "      <td>0</td>\n",
       "      <td>8</td>\n",
       "      <td>0</td>\n",
       "    </tr>\n",
       "    <tr>\n",
       "      <th>2</th>\n",
       "      <td>51</td>\n",
       "      <td>78</td>\n",
       "      <td>9</td>\n",
       "      <td>0</td>\n",
       "      <td>1</td>\n",
       "      <td>1</td>\n",
       "      <td>0</td>\n",
       "      <td>10</td>\n",
       "      <td>0</td>\n",
       "    </tr>\n",
       "    <tr>\n",
       "      <th>3</th>\n",
       "      <td>297</td>\n",
       "      <td>480</td>\n",
       "      <td>22</td>\n",
       "      <td>25</td>\n",
       "      <td>1</td>\n",
       "      <td>1</td>\n",
       "      <td>2</td>\n",
       "      <td>9</td>\n",
       "      <td>0</td>\n",
       "    </tr>\n",
       "    <tr>\n",
       "      <th>4</th>\n",
       "      <td>113</td>\n",
       "      <td>242</td>\n",
       "      <td>0</td>\n",
       "      <td>95</td>\n",
       "      <td>1</td>\n",
       "      <td>1</td>\n",
       "      <td>0</td>\n",
       "      <td>10</td>\n",
       "      <td>0</td>\n",
       "    </tr>\n",
       "  </tbody>\n",
       "</table>\n",
       "</div>"
      ],
      "text/plain": [
       "   userFollowerCount  userFollowingCount  userBiographyLength  userMediaCount  \\\n",
       "0                258                 238                    0               0   \n",
       "1                263                 482                   30              29   \n",
       "2                 51                  78                    9               0   \n",
       "3                297                 480                   22              25   \n",
       "4                113                 242                    0              95   \n",
       "\n",
       "   userHasProfilPic  userIsPrivate  usernameDigitCount  usernameLength  isFake  \n",
       "0                 1              0                   0              10       0  \n",
       "1                 1              1                   0               8       0  \n",
       "2                 1              1                   0              10       0  \n",
       "3                 1              1                   2               9       0  \n",
       "4                 1              1                   0              10       0  "
      ]
     },
     "execution_count": 4,
     "metadata": {},
     "output_type": "execute_result"
    }
   ],
   "source": [
    "real_users.head()"
   ]
  },
  {
   "cell_type": "code",
   "execution_count": 5,
   "id": "b46b4622",
   "metadata": {
    "execution": {
     "iopub.execute_input": "2023-03-25T00:51:00.359943Z",
     "iopub.status.busy": "2023-03-25T00:51:00.359388Z",
     "iopub.status.idle": "2023-03-25T00:51:00.404404Z",
     "shell.execute_reply": "2023-03-25T00:51:00.402781Z"
    },
    "papermill": {
     "duration": 0.056031,
     "end_time": "2023-03-25T00:51:00.407576",
     "exception": false,
     "start_time": "2023-03-25T00:51:00.351545",
     "status": "completed"
    },
    "tags": []
   },
   "outputs": [
    {
     "data": {
      "text/html": [
       "<div>\n",
       "<style scoped>\n",
       "    .dataframe tbody tr th:only-of-type {\n",
       "        vertical-align: middle;\n",
       "    }\n",
       "\n",
       "    .dataframe tbody tr th {\n",
       "        vertical-align: top;\n",
       "    }\n",
       "\n",
       "    .dataframe thead th {\n",
       "        text-align: right;\n",
       "    }\n",
       "</style>\n",
       "<table border=\"1\" class=\"dataframe\">\n",
       "  <thead>\n",
       "    <tr style=\"text-align: right;\">\n",
       "      <th></th>\n",
       "      <th>userFollowerCount</th>\n",
       "      <th>userFollowingCount</th>\n",
       "      <th>userBiographyLength</th>\n",
       "      <th>userMediaCount</th>\n",
       "      <th>userHasProfilPic</th>\n",
       "      <th>userIsPrivate</th>\n",
       "      <th>usernameDigitCount</th>\n",
       "      <th>usernameLength</th>\n",
       "      <th>isFake</th>\n",
       "    </tr>\n",
       "  </thead>\n",
       "  <tbody>\n",
       "    <tr>\n",
       "      <th>count</th>\n",
       "      <td>994.000000</td>\n",
       "      <td>994.000000</td>\n",
       "      <td>994.000000</td>\n",
       "      <td>994.000000</td>\n",
       "      <td>994.000000</td>\n",
       "      <td>994.000000</td>\n",
       "      <td>994.000000</td>\n",
       "      <td>994.000000</td>\n",
       "      <td>994.0</td>\n",
       "    </tr>\n",
       "    <tr>\n",
       "      <th>mean</th>\n",
       "      <td>419.891348</td>\n",
       "      <td>516.138833</td>\n",
       "      <td>25.034205</td>\n",
       "      <td>68.473843</td>\n",
       "      <td>0.986922</td>\n",
       "      <td>0.724346</td>\n",
       "      <td>0.266600</td>\n",
       "      <td>11.070423</td>\n",
       "      <td>0.0</td>\n",
       "    </tr>\n",
       "    <tr>\n",
       "      <th>std</th>\n",
       "      <td>366.998029</td>\n",
       "      <td>517.709885</td>\n",
       "      <td>34.128111</td>\n",
       "      <td>113.963572</td>\n",
       "      <td>0.113668</td>\n",
       "      <td>0.447068</td>\n",
       "      <td>0.851721</td>\n",
       "      <td>2.877679</td>\n",
       "      <td>0.0</td>\n",
       "    </tr>\n",
       "    <tr>\n",
       "      <th>min</th>\n",
       "      <td>1.000000</td>\n",
       "      <td>4.000000</td>\n",
       "      <td>0.000000</td>\n",
       "      <td>0.000000</td>\n",
       "      <td>0.000000</td>\n",
       "      <td>0.000000</td>\n",
       "      <td>0.000000</td>\n",
       "      <td>5.000000</td>\n",
       "      <td>0.0</td>\n",
       "    </tr>\n",
       "    <tr>\n",
       "      <th>25%</th>\n",
       "      <td>218.000000</td>\n",
       "      <td>267.000000</td>\n",
       "      <td>0.000000</td>\n",
       "      <td>8.000000</td>\n",
       "      <td>1.000000</td>\n",
       "      <td>0.000000</td>\n",
       "      <td>0.000000</td>\n",
       "      <td>9.000000</td>\n",
       "      <td>0.0</td>\n",
       "    </tr>\n",
       "    <tr>\n",
       "      <th>50%</th>\n",
       "      <td>345.000000</td>\n",
       "      <td>419.500000</td>\n",
       "      <td>12.000000</td>\n",
       "      <td>30.000000</td>\n",
       "      <td>1.000000</td>\n",
       "      <td>1.000000</td>\n",
       "      <td>0.000000</td>\n",
       "      <td>11.000000</td>\n",
       "      <td>0.0</td>\n",
       "    </tr>\n",
       "    <tr>\n",
       "      <th>75%</th>\n",
       "      <td>515.750000</td>\n",
       "      <td>614.000000</td>\n",
       "      <td>36.000000</td>\n",
       "      <td>78.750000</td>\n",
       "      <td>1.000000</td>\n",
       "      <td>1.000000</td>\n",
       "      <td>0.000000</td>\n",
       "      <td>13.000000</td>\n",
       "      <td>0.0</td>\n",
       "    </tr>\n",
       "    <tr>\n",
       "      <th>max</th>\n",
       "      <td>4492.000000</td>\n",
       "      <td>6640.000000</td>\n",
       "      <td>150.000000</td>\n",
       "      <td>1058.000000</td>\n",
       "      <td>1.000000</td>\n",
       "      <td>1.000000</td>\n",
       "      <td>7.000000</td>\n",
       "      <td>22.000000</td>\n",
       "      <td>0.0</td>\n",
       "    </tr>\n",
       "  </tbody>\n",
       "</table>\n",
       "</div>"
      ],
      "text/plain": [
       "       userFollowerCount  userFollowingCount  userBiographyLength  \\\n",
       "count         994.000000          994.000000           994.000000   \n",
       "mean          419.891348          516.138833            25.034205   \n",
       "std           366.998029          517.709885            34.128111   \n",
       "min             1.000000            4.000000             0.000000   \n",
       "25%           218.000000          267.000000             0.000000   \n",
       "50%           345.000000          419.500000            12.000000   \n",
       "75%           515.750000          614.000000            36.000000   \n",
       "max          4492.000000         6640.000000           150.000000   \n",
       "\n",
       "       userMediaCount  userHasProfilPic  userIsPrivate  usernameDigitCount  \\\n",
       "count      994.000000        994.000000     994.000000          994.000000   \n",
       "mean        68.473843          0.986922       0.724346            0.266600   \n",
       "std        113.963572          0.113668       0.447068            0.851721   \n",
       "min          0.000000          0.000000       0.000000            0.000000   \n",
       "25%          8.000000          1.000000       0.000000            0.000000   \n",
       "50%         30.000000          1.000000       1.000000            0.000000   \n",
       "75%         78.750000          1.000000       1.000000            0.000000   \n",
       "max       1058.000000          1.000000       1.000000            7.000000   \n",
       "\n",
       "       usernameLength  isFake  \n",
       "count      994.000000   994.0  \n",
       "mean        11.070423     0.0  \n",
       "std          2.877679     0.0  \n",
       "min          5.000000     0.0  \n",
       "25%          9.000000     0.0  \n",
       "50%         11.000000     0.0  \n",
       "75%         13.000000     0.0  \n",
       "max         22.000000     0.0  "
      ]
     },
     "execution_count": 5,
     "metadata": {},
     "output_type": "execute_result"
    }
   ],
   "source": [
    "real_users.describe()"
   ]
  },
  {
   "cell_type": "markdown",
   "id": "07b71236",
   "metadata": {
    "papermill": {
     "duration": 0.005702,
     "end_time": "2023-03-25T00:51:00.419589",
     "exception": false,
     "start_time": "2023-03-25T00:51:00.413887",
     "status": "completed"
    },
    "tags": []
   },
   "source": [
    "# **I/O or X/Y data**"
   ]
  },
  {
   "cell_type": "code",
   "execution_count": 6,
   "id": "e4fb77de",
   "metadata": {
    "execution": {
     "iopub.execute_input": "2023-03-25T00:51:00.434862Z",
     "iopub.status.busy": "2023-03-25T00:51:00.433877Z",
     "iopub.status.idle": "2023-03-25T00:51:00.443709Z",
     "shell.execute_reply": "2023-03-25T00:51:00.442235Z"
    },
    "papermill": {
     "duration": 0.021457,
     "end_time": "2023-03-25T00:51:00.447262",
     "exception": false,
     "start_time": "2023-03-25T00:51:00.425805",
     "status": "completed"
    },
    "tags": []
   },
   "outputs": [],
   "source": [
    "feature_columns_to_use=[\"userFollowerCount\",\"userFollowingCount\",\"userBiographyLength\",\"userMediaCount\",\"userHasProfilPic\",\"userIsPrivate\",\"usernameDigitCount\",\"usernameLength\"]\n",
    "test_data = pd.concat([real_users[:],fake_users[:]],axis=0)\n",
    "x=test_data[feature_columns_to_use].values\n",
    "y=test_data[\"isFake\"].values"
   ]
  },
  {
   "cell_type": "markdown",
   "id": "0fa1d4a4",
   "metadata": {
    "papermill": {
     "duration": 0.005663,
     "end_time": "2023-03-25T00:51:00.459066",
     "exception": false,
     "start_time": "2023-03-25T00:51:00.453403",
     "status": "completed"
    },
    "tags": []
   },
   "source": [
    "# **Correlation Matrix**"
   ]
  },
  {
   "cell_type": "code",
   "execution_count": 7,
   "id": "7f9ad428",
   "metadata": {
    "execution": {
     "iopub.execute_input": "2023-03-25T00:51:00.474235Z",
     "iopub.status.busy": "2023-03-25T00:51:00.472836Z",
     "iopub.status.idle": "2023-03-25T00:51:02.844391Z",
     "shell.execute_reply": "2023-03-25T00:51:02.842891Z"
    },
    "papermill": {
     "duration": 2.383686,
     "end_time": "2023-03-25T00:51:02.848811",
     "exception": false,
     "start_time": "2023-03-25T00:51:00.465125",
     "status": "completed"
    },
    "tags": []
   },
   "outputs": [
    {
     "data": {
      "text/plain": [
       "<AxesSubplot:>"
      ]
     },
     "execution_count": 7,
     "metadata": {},
     "output_type": "execute_result"
    },
    {
     "data": {
      "image/png": "[encoded data removed]",
      "text/plain": [
       "<Figure size 640x480 with 2 Axes>"
      ]
     },
     "metadata": {},
     "output_type": "display_data"
    }
   ],
   "source": [
    "import seaborn as sns\n",
    "# correlation plot\n",
    "\n",
    "corr =test_data.iloc[:,:].corr()\n",
    "sns.heatmap(corr, cmap = 'Wistia', annot= True)"
   ]
  },
  {
   "cell_type": "code",
   "execution_count": 8,
   "id": "0834a02e",
   "metadata": {
    "execution": {
     "iopub.execute_input": "2023-03-25T00:51:02.867520Z",
     "iopub.status.busy": "2023-03-25T00:51:02.866995Z",
     "iopub.status.idle": "2023-03-25T00:51:03.205158Z",
     "shell.execute_reply": "2023-03-25T00:51:03.203878Z"
    },
    "papermill": {
     "duration": 0.351033,
     "end_time": "2023-03-25T00:51:03.207907",
     "exception": false,
     "start_time": "2023-03-25T00:51:02.856874",
     "status": "completed"
    },
    "tags": []
   },
   "outputs": [
    {
     "data": {
      "text/plain": [
       "<matplotlib.legend.Legend at 0x7f34eae112d0>"
      ]
     },
     "execution_count": 8,
     "metadata": {},
     "output_type": "execute_result"
    },
    {
     "data": {
      "image/png": "[encoded data removed]",
      "text/plain": [
       "<Figure size 640x480 with 1 Axes>"
      ]
     },
     "metadata": {},
     "output_type": "display_data"
    }
   ],
   "source": [
    "import matplotlib.pyplot as plt\n",
    "plt.scatter(x[:,1], y, c=y,label=\"les donnees de training\")\n",
    "plt.legend()"
   ]
  },
  {
   "cell_type": "markdown",
   "id": "9b3a6693",
   "metadata": {
    "papermill": {
     "duration": 0.007391,
     "end_time": "2023-03-25T00:51:03.223310",
     "exception": false,
     "start_time": "2023-03-25T00:51:03.215919",
     "status": "completed"
    },
    "tags": []
   },
   "source": [
    "# **Split data to test and train**"
   ]
  },
  {
   "cell_type": "code",
   "execution_count": 9,
   "id": "0d094974",
   "metadata": {
    "execution": {
     "iopub.execute_input": "2023-03-25T00:51:03.241943Z",
     "iopub.status.busy": "2023-03-25T00:51:03.240709Z",
     "iopub.status.idle": "2023-03-25T00:51:03.517159Z",
     "shell.execute_reply": "2023-03-25T00:51:03.515729Z"
    },
    "papermill": {
     "duration": 0.289325,
     "end_time": "2023-03-25T00:51:03.520427",
     "exception": false,
     "start_time": "2023-03-25T00:51:03.231102",
     "status": "completed"
    },
    "tags": []
   },
   "outputs": [],
   "source": [
    "from sklearn.model_selection import train_test_split\n",
    "\n",
    "X_train, X_test, y_train, y_test = train_test_split(x,y,test_size=0.3,random_state=42)"
   ]
  },
  {
   "cell_type": "markdown",
   "id": "46b5904c",
   "metadata": {
    "papermill": {
     "duration": 0.007566,
     "end_time": "2023-03-25T00:51:03.537090",
     "exception": false,
     "start_time": "2023-03-25T00:51:03.529524",
     "status": "completed"
    },
    "tags": []
   },
   "source": [
    "# **Install lazypredict library**"
   ]
  },
  {
   "cell_type": "code",
   "execution_count": 10,
   "id": "e5105f33",
   "metadata": {
    "execution": {
     "iopub.execute_input": "2023-03-25T00:51:03.555230Z",
     "iopub.status.busy": "2023-03-25T00:51:03.554302Z",
     "iopub.status.idle": "2023-03-25T00:51:17.072907Z",
     "shell.execute_reply": "2023-03-25T00:51:17.071293Z"
    },
    "papermill": {
     "duration": 13.531428,
     "end_time": "2023-03-25T00:51:17.076422",
     "exception": false,
     "start_time": "2023-03-25T00:51:03.544994",
     "status": "completed"
    },
    "tags": []
   },
   "outputs": [
    {
     "name": "stdout",
     "output_type": "stream",
     "text": [
      "Collecting lazypredict\r\n",
      "  Downloading lazypredict-0.2.12-py2.py3-none-any.whl (12 kB)\r\n",
      "Requirement already satisfied: joblib in /opt/conda/lib/python3.7/site-packages (from lazypredict) (1.2.0)\r\n",
      "Requirement already satisfied: tqdm in /opt/conda/lib/python3.7/site-packages (from lazypredict) (4.64.1)\r\n",
      "Requirement already satisfied: xgboost in /opt/conda/lib/python3.7/site-packages (from lazypredict) (1.6.2)\r\n",
      "Requirement already satisfied: click in /opt/conda/lib/python3.7/site-packages (from lazypredict) (8.1.3)\r\n",
      "Requirement already satisfied: scikit-learn in /opt/conda/lib/python3.7/site-packages (from lazypredict) (1.0.2)\r\n",
      "Requirement already satisfied: pandas in /opt/conda/lib/python3.7/site-packages (from lazypredict) (1.3.5)\r\n",
      "Requirement already satisfied: lightgbm in /opt/conda/lib/python3.7/site-packages (from lazypredict) (3.3.2)\r\n",
      "Requirement already satisfied: importlib-metadata in /opt/conda/lib/python3.7/site-packages (from click->lazypredict) (4.11.4)\r\n",
      "Requirement already satisfied: scipy in /opt/conda/lib/python3.7/site-packages (from lightgbm->lazypredict) (1.7.3)\r\n",
      "Requirement already satisfied: numpy in /opt/conda/lib/python3.7/site-packages (from lightgbm->lazypredict) (1.21.6)\r\n",
      "Requirement already satisfied: wheel in /opt/conda/lib/python3.7/site-packages (from lightgbm->lazypredict) (0.38.4)\r\n",
      "Requirement already satisfied: threadpoolctl>=2.0.0 in /opt/conda/lib/python3.7/site-packages (from scikit-learn->lazypredict) (3.1.0)\r\n",
      "Requirement already satisfied: python-dateutil>=2.7.3 in /opt/conda/lib/python3.7/site-packages (from pandas->lazypredict) (2.8.2)\r\n",
      "Requirement already satisfied: pytz>=2017.3 in /opt/conda/lib/python3.7/site-packages (from pandas->lazypredict) (2022.7.1)\r\n",
      "Requirement already satisfied: six>=1.5 in /opt/conda/lib/python3.7/site-packages (from python-dateutil>=2.7.3->pandas->lazypredict) (1.16.0)\r\n",
      "Requirement already satisfied: typing-extensions>=3.6.4 in /opt/conda/lib/python3.7/site-packages (from importlib-metadata->click->lazypredict) (4.4.0)\r\n",
      "Requirement already satisfied: zipp>=0.5 in /opt/conda/lib/python3.7/site-packages (from importlib-metadata->click->lazypredict) (3.11.0)\r\n",
      "Installing collected packages: lazypredict\r\n",
      "Successfully installed lazypredict-0.2.12\r\n",
      "\u001b[33mWARNING: Running pip as the 'root' user can result in broken permissions and conflicting behaviour with the system package manager. It is recommended to use a virtual environment instead: https://pip.pypa.io/warnings/venv\u001b[0m\u001b[33m\r\n",
      "\u001b[0m"
     ]
    }
   ],
   "source": [
    "!pip install lazypredict"
   ]
  },
  {
   "cell_type": "markdown",
   "id": "720d99ce",
   "metadata": {
    "papermill": {
     "duration": 0.008809,
     "end_time": "2023-03-25T00:51:17.094238",
     "exception": false,
     "start_time": "2023-03-25T00:51:17.085429",
     "status": "completed"
    },
    "tags": []
   },
   "source": [
    "# **Create, train, test models**"
   ]
  },
  {
   "cell_type": "code",
   "execution_count": 11,
   "id": "bcfa2bee",
   "metadata": {
    "execution": {
     "iopub.execute_input": "2023-03-25T00:51:17.116400Z",
     "iopub.status.busy": "2023-03-25T00:51:17.115364Z",
     "iopub.status.idle": "2023-03-25T00:51:23.038530Z",
     "shell.execute_reply": "2023-03-25T00:51:23.036218Z"
    },
    "papermill": {
     "duration": 5.939243,
     "end_time": "2023-03-25T00:51:23.042449",
     "exception": false,
     "start_time": "2023-03-25T00:51:17.103206",
     "status": "completed"
    },
    "tags": []
   },
   "outputs": [
    {
     "data": {
      "text/html": [
       "<style type='text/css'>\n",
       ".datatable table.frame { margin-bottom: 0; }\n",
       ".datatable table.frame thead { border-bottom: none; }\n",
       ".datatable table.frame tr.coltypes td {  color: #FFFFFF;  line-height: 6px;  padding: 0 0.5em;}\n",
       ".datatable .bool    { background: #DDDD99; }\n",
       ".datatable .object  { background: #565656; }\n",
       ".datatable .int     { background: #5D9E5D; }\n",
       ".datatable .float   { background: #4040CC; }\n",
       ".datatable .str     { background: #CC4040; }\n",
       ".datatable .time    { background: #40CC40; }\n",
       ".datatable .row_index {  background: var(--jp-border-color3);  border-right: 1px solid var(--jp-border-color0);  color: var(--jp-ui-font-color3);  font-size: 9px;}\n",
       ".datatable .frame tbody td { text-align: left; }\n",
       ".datatable .frame tr.coltypes .row_index {  background: var(--jp-border-color0);}\n",
       ".datatable th:nth-child(2) { padding-left: 12px; }\n",
       ".datatable .hellipsis {  color: var(--jp-cell-editor-border-color);}\n",
       ".datatable .vellipsis {  background: var(--jp-layout-color0);  color: var(--jp-cell-editor-border-color);}\n",
       ".datatable .na {  color: var(--jp-cell-editor-border-color);  font-size: 80%;}\n",
       ".datatable .sp {  opacity: 0.25;}\n",
       ".datatable .footer { font-size: 9px; }\n",
       ".datatable .frame_dimensions {  background: var(--jp-border-color3);  border-top: 1px solid var(--jp-border-color0);  color: var(--jp-ui-font-color3);  display: inline-block;  opacity: 0.6;  padding: 1px 10px 1px 5px;}\n",
       "</style>\n"
      ],
      "text/plain": [
       "<IPython.core.display.HTML object>"
      ]
     },
     "metadata": {},
     "output_type": "display_data"
    },
    {
     "name": "stderr",
     "output_type": "stream",
     "text": [
      " 14%|█▍        | 4/29 [00:00<00:01, 13.16it/s]"
     ]
    },
    {
     "name": "stdout",
     "output_type": "stream",
     "text": [
      "CategoricalNB model failed to execute\n",
      "Negative values in data passed to CategoricalNB (input X)\n"
     ]
    },
    {
     "name": "stderr",
     "output_type": "stream",
     "text": [
      " 59%|█████▊    | 17/29 [00:00<00:00, 19.50it/s]"
     ]
    },
    {
     "name": "stdout",
     "output_type": "stream",
     "text": [
      "NuSVC model failed to execute\n",
      "specified nu is infeasible\n"
     ]
    },
    {
     "name": "stderr",
     "output_type": "stream",
     "text": [
      " 76%|███████▌  | 22/29 [00:01<00:00, 17.70it/s]"
     ]
    },
    {
     "name": "stdout",
     "output_type": "stream",
     "text": [
      "StackingClassifier model failed to execute\n",
      "__init__() missing 1 required positional argument: 'estimators'\n"
     ]
    },
    {
     "name": "stderr",
     "output_type": "stream",
     "text": [
      "100%|██████████| 29/29 [00:02<00:00, 10.81it/s]"
     ]
    },
    {
     "name": "stdout",
     "output_type": "stream",
     "text": [
      "                               Accuracy  Balanced Accuracy  ROC AUC  F1 Score  \\\n",
      "Model                                                                           \n",
      "XGBClassifier                      0.98               0.96     0.96      0.98   \n",
      "AdaBoostClassifier                 0.99               0.96     0.96      0.99   \n",
      "LGBMClassifier                     0.98               0.95     0.95      0.98   \n",
      "RandomForestClassifier             0.98               0.94     0.94      0.98   \n",
      "DecisionTreeClassifier             0.97               0.94     0.94      0.97   \n",
      "BaggingClassifier                  0.97               0.92     0.92      0.97   \n",
      "SGDClassifier                      0.96               0.89     0.89      0.95   \n",
      "ExtraTreesClassifier               0.96               0.89     0.89      0.96   \n",
      "Perceptron                         0.93               0.88     0.88      0.93   \n",
      "LogisticRegression                 0.95               0.87     0.87      0.95   \n",
      "CalibratedClassifierCV             0.95               0.87     0.87      0.95   \n",
      "LinearSVC                          0.95               0.86     0.86      0.95   \n",
      "QuadraticDiscriminantAnalysis      0.93               0.86     0.86      0.93   \n",
      "SVC                                0.95               0.85     0.85      0.95   \n",
      "KNeighborsClassifier               0.94               0.85     0.85      0.94   \n",
      "BernoulliNB                        0.94               0.84     0.84      0.93   \n",
      "ExtraTreeClassifier                0.92               0.84     0.84      0.92   \n",
      "LabelSpreading                     0.93               0.83     0.83      0.93   \n",
      "LabelPropagation                   0.93               0.83     0.83      0.93   \n",
      "PassiveAggressiveClassifier        0.94               0.83     0.83      0.93   \n",
      "NearestCentroid                    0.92               0.82     0.82      0.92   \n",
      "GaussianNB                         0.92               0.82     0.82      0.92   \n",
      "LinearDiscriminantAnalysis         0.93               0.79     0.79      0.92   \n",
      "RidgeClassifier                    0.92               0.78     0.78      0.92   \n",
      "RidgeClassifierCV                  0.92               0.78     0.78      0.92   \n",
      "DummyClassifier                    0.85               0.50     0.50      0.78   \n",
      "\n",
      "                               Time Taken  \n",
      "Model                                      \n",
      "XGBClassifier                        0.49  \n",
      "AdaBoostClassifier                   0.15  \n",
      "LGBMClassifier                       0.83  \n",
      "RandomForestClassifier               0.25  \n",
      "DecisionTreeClassifier               0.02  \n",
      "BaggingClassifier                    0.05  \n",
      "SGDClassifier                        0.02  \n",
      "ExtraTreesClassifier                 0.19  \n",
      "Perceptron                           0.02  \n",
      "LogisticRegression                   0.02  \n",
      "CalibratedClassifierCV               0.11  \n",
      "LinearSVC                            0.07  \n",
      "QuadraticDiscriminantAnalysis        0.02  \n",
      "SVC                                  0.03  \n",
      "KNeighborsClassifier                 0.03  \n",
      "BernoulliNB                          0.01  \n",
      "ExtraTreeClassifier                  0.01  \n",
      "LabelSpreading                       0.11  \n",
      "LabelPropagation                     0.09  \n",
      "PassiveAggressiveClassifier          0.02  \n",
      "NearestCentroid                      0.02  \n",
      "GaussianNB                           0.02  \n",
      "LinearDiscriminantAnalysis           0.04  \n",
      "RidgeClassifier                      0.03  \n",
      "RidgeClassifierCV                    0.02  \n",
      "DummyClassifier                      0.01  \n"
     ]
    },
    {
     "name": "stderr",
     "output_type": "stream",
     "text": [
      "\n"
     ]
    }
   ],
   "source": [
    "from lazypredict.Supervised import LazyClassifier\n",
    "reg = LazyClassifier(verbose=0, ignore_warnings=False, custom_metric=None)\n",
    "models, predictions = reg.fit(X_train, X_test, y_train, y_test)\n",
    "\n",
    "print(models)"
   ]
  }
 ],
 "metadata": {
  "kernelspec": {
   "display_name": "Python 3",
   "language": "python",
   "name": "python3"
  },
  "language_info": {
   "codemirror_mode": {
    "name": "ipython",
    "version": 3
   },
   "file_extension": ".py",
   "mimetype": "text/x-python",
   "name": "python",
   "nbconvert_exporter": "python",
   "pygments_lexer": "ipython3",
   "version": "3.7.12"
  },
  "papermill": {
   "default_parameters": {},
   "duration": 35.776551,
   "end_time": "2023-03-25T00:51:24.381899",
   "environment_variables": {},
   "exception": null,
   "input_path": "__notebook__.ipynb",
   "output_path": "__notebook__.ipynb",
   "parameters": {},
   "start_time": "2023-03-25T00:50:48.605348",
   "version": "2.4.0"
  }
 },
 "nbformat": 4,
 "nbformat_minor": 5
}
